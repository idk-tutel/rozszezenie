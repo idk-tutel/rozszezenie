{
 "cells": [
  {
   "cell_type": "markdown",
   "metadata": {},
   "source": [
    "# Task 1: Book and Library\n",
    "1. Create a class `Book` with the following attributes:\n",
    "   - `title` (the book's title),\n",
    "   - `author` (the book's author),\n",
    "   - `year` (the year of publication).\n",
    "2. Add a method `get_info` that returns information about the book as a string \n",
    "   (e.g., \"Author: John Doe, Title: Python for Everyone, Year: 2020\").\n",
    "3. Create a class `Library` that manages a list of books.\n",
    "4. Add methods to:\n",
    "   - add books,\n",
    "   - remove books,\n",
    "   - display the list of books.\n",
    "5. Use the created classes to build a library, add some books, and display all of them.\n"
   ]
  },
  {
   "cell_type": "code",
   "execution_count": 3,
   "metadata": {},
   "outputs": [
    {
     "name": "stdout",
     "output_type": "stream",
     "text": [
      "Author: jakistyp, Title: tytol, Year: 20024\n",
      "Author: jakistyp, Title: tytolol, Year: 20023\n",
      "Author: jakistyp, Title: ksiomska, Year: 20020\n"
     ]
    }
   ],
   "source": [
    "class Book:\n",
    "    def __init__(self, title: str, author: str, year: int):\n",
    "        self.title = title\n",
    "        self.author = author\n",
    "        self.year = year\n",
    "    def get_info(self):\n",
    "        print(f'Author: {self.author}, Title: {self.title}, Year: {self.year}')\n",
    "\n",
    "class Lib:\n",
    "    def __init__(self, name: str):\n",
    "        self.name = name\n",
    "        self.books = []\n",
    "    def add_book(self, book: Book):\n",
    "        self.books.append(book)\n",
    "    def del_book(self):\n",
    "        self.books.remove(Book)\n",
    "    def get_books(self):\n",
    "        print(Lib)\n",
    "\n",
    "Book1 = Book('tytol','jakistyp',20024)\n",
    "Book2 = Book('tytolol','jakistyp',20023)\n",
    "Book4 = Book('ksiomska','jakistyp',20020)\n",
    "\n",
    "Book1.get_info()\n",
    "Book2.get_info()\n",
    "Book4.get_info()\n",
    "\n",
    "Lib1 = Lib('imiednia jakisatypa')"
   ]
  },
  {
   "cell_type": "markdown",
   "metadata": {},
   "source": [
    "# Task 2: RPG Game\n",
    "1. Create a class `Character` with the following attributes:\n",
    "   - `name` (the character's name),\n",
    "   - `health` (health points),\n",
    "   - `strength` (attack strength).\n",
    "2. Add a method `attack` that reduces the opponent's health points.\n",
    "3. Create two subclasses inheriting from `Character`: `Warrior` and `Mage`.\n",
    "   - The `Warrior` has an additional attribute `armor` that reduces incoming damage.\n",
    "   - The `Mage` has an additional attribute `mana` and can cast a spell to reduce the opponent's health.\n",
    "4. Test the functionality by creating two characters and letting them fight.\n"
   ]
  },
  {
   "cell_type": "markdown",
   "metadata": {},
   "source": [
    "# Task 3: Ticket Reservation System\n",
    "1. Create a class `Seat` that represents a seat in a cinema. Each seat should have:\n",
    "   - `row` (the row number),\n",
    "   - `number` (the seat number),\n",
    "   - `is_reserved` (whether the seat is reserved, default is `False`).\n",
    "2. Add methods to:\n",
    "   - reserve the seat,\n",
    "   - cancel the reservation,\n",
    "   - check if the seat is free.\n",
    "3. Create a class `Cinema` that manages a list of seats and has methods to:\n",
    "   - display all seats,\n",
    "   - reserve a seat by row and number.\n",
    "4. Implement a reservation system for multiple rows.\n"
   ]
  },
  {
   "cell_type": "markdown",
   "metadata": {},
   "source": [
    "# Task 4: Bank and Bank Accounts\n",
    "1. Create a class `BankAccount` with the following attributes:\n",
    "   - `account_number` (the account number),\n",
    "   - `owner` (the account owner),\n",
    "   - `balance` (the account balance, default is 0).\n",
    "2. Add methods to:\n",
    "   - deposit money (`deposit`),\n",
    "   - withdraw money (`withdraw`),\n",
    "   - check the account balance.\n",
    "3. Create a class `Bank` that manages multiple accounts and has methods to:\n",
    "   - create new accounts,\n",
    "   - find an account by its number,\n",
    "   - display all accounts.\n",
    "4. Test the bank system by creating several accounts and performing operations on them.\n"
   ]
  },
  {
   "cell_type": "markdown",
   "metadata": {},
   "source": [
    "# Task 5: Animals in the Zoo\n",
    "1. Create a class `Animal` with the following attributes:\n",
    "   - `species` (the species),\n",
    "   - `name` (the name),\n",
    "   - `sound` (the sound it makes).\n",
    "2. Add a method `make_sound` that displays the sound made by the animal.\n",
    "3. Create subclasses inheriting from `Animal`: `Dog`, `Cat`, and `Elephant`, defining their specific sounds.\n",
    "4. Create a class `Zoo` that stores a list of animals and has methods to:\n",
    "   - add new animals,\n",
    "   - display the list of animals,\n",
    "   - make all animals produce their sounds.\n",
    "5. Implement an example with various animals in the zoo and make them produce their sounds.\n"
   ]
  }
 ],
 "metadata": {
  "kernelspec": {
   "display_name": "Python 3",
   "language": "python",
   "name": "python3"
  },
  "language_info": {
   "codemirror_mode": {
    "name": "ipython",
    "version": 3
   },
   "file_extension": ".py",
   "mimetype": "text/x-python",
   "name": "python",
   "nbconvert_exporter": "python",
   "pygments_lexer": "ipython3",
   "version": "3.12.7"
  }
 },
 "nbformat": 4,
 "nbformat_minor": 2
}
